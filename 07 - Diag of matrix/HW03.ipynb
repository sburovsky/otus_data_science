{
 "cells": [
  {
   "attachments": {
    "1.png": {
     "image/png": "[encoded data removed]"
    }
   },
   "cell_type": "markdown",
   "id": "a1024357",
   "metadata": {},
   "source": [
    "![1.png](attachment:1.png)"
   ]
  },
  {
   "cell_type": "markdown",
   "id": "491a8bcb",
   "metadata": {},
   "source": [
    "### Решение"
   ]
  },
  {
   "cell_type": "markdown",
   "id": "b45c62be",
   "metadata": {},
   "source": [
    "a) Посчитаем определитель по правилу треугольников:\n",
    "$$ det A = 4*2*2+(-3)*1*1+(-3)*1*1-(-3)*2*1-4*1*1-(-3)*1*2=16-3-3+6-4+6=18 $$\n",
    "\n",
    "Посчитаем собственные значения:\n",
    "$$ \\begin{vmatrix}\n",
    "  A-E\\lambda\n",
    " \\end{vmatrix} = \n",
    "\\begin{vmatrix}\n",
    "  4-\\lambda & -3 & -3\\\\\n",
    "  1 & 2-\\lambda & 1\\\\\n",
    "  1 & 1 & 2-\\lambda \n",
    " \\end{vmatrix} = (4-\\lambda)*(2-\\lambda)*(2-\\lambda)+1*1*(-3)+1*1*(-3)-1*(2-\\lambda)*(-3)-(4-\\lambda)*1*1-(2-\\lambda)*1*(-3) = -\\lambda^3+8\\lambda^2-25\\lambda+18=0 $$\n",
    "Методом подбора корня получаем: $ \\lambda_1=1. $\n",
    "\n",
    "Последовательно группируем слагаемые, дающие множитель $\\lambda-1$:\n",
    "$$ \\lambda^2(\\lambda-1)-7\\lambda(\\lambda-1)+18(\\lambda-1)=0 $$ \n",
    "$$ (\\lambda-1)(\\lambda^2-7\\lambda+18) $$\n",
    "Решим квадратное уравнение $ \\lambda^2-7\\lambda+18=0 $\n",
    "\n",
    "$$ D=49-72=-23 $$\n",
    "$$ \\lambda_2=\\frac{7+i\\sqrt{23}}{2} $$\n",
    "$$ \\lambda_3=\\frac{7-i\\sqrt{23}}{2} $$\n",
    "\n",
    "#### Собственные значения:\n",
    "$$ \\lambda_1=1 $$\n",
    "$$ \\lambda_2=\\frac{7+i\\sqrt{23}}{2} $$\n",
    "$$ \\lambda_3=\\frac{7-i\\sqrt{23}}{2} $$\n"
   ]
  },
  {
   "cell_type": "markdown",
   "id": "55a1f3db",
   "metadata": {},
   "source": [
    "б) Посчитаем определитель по третьему столбцу:\n",
    "$$ det B = 1*(2*2 -(-1)*(-1)) = 3 $$\n",
    "\n",
    "Посчитаем собственные значения:\n",
    "$$ \\begin{vmatrix}\n",
    "  A-E\\lambda\n",
    " \\end{vmatrix} = \n",
    "\\begin{vmatrix}\n",
    "  2-\\lambda & -1 & 0\\\\\n",
    "  -1 & 2-\\lambda & 0\\\\\n",
    "  1 & -1 & 1-\\lambda \n",
    " \\end{vmatrix} = (1-\\lambda)*((2-\\lambda)*(2-\\lambda)-1) = -\\lambda^3+5\\lambda^2-7\\lambda+3=0 $$\n",
    "Методом подбора корня получаем: $ \\lambda_1=1. $\n",
    "\n",
    "Последовательно группируем слагаемые, дающие множитель $\\lambda-1$:\n",
    "$$ -\\lambda^2(\\lambda-1)+4\\lambda(\\lambda-1)-3(\\lambda-1)=0 $$ \n",
    "$$ (\\lambda-1)(-\\lambda^2+4\\lambda-3) $$\n",
    "Решим квадратное уравнение $ \\lambda^2-4\\lambda+3=0 $\n",
    "\n",
    "$$ D=16-12=4 $$\n",
    "$$ \\lambda_2=\\frac{4-2}{2}=1 $$\n",
    "$$ \\lambda_3=\\frac{4+2}{2}=3 $$\n",
    "\n",
    "#### Собственные значения:\n",
    "$$ \\lambda_{1,2}=1 $$\n",
    "$$ \\lambda_2=3 $$\n"
   ]
  },
  {
   "cell_type": "markdown",
   "id": "8ec326fb",
   "metadata": {},
   "source": [
    "в) Посчитаем определитель по первому столбцу:\n",
    "$$ det C = 5*(4*4-(-1)*(-1)) = 75 $$\n",
    "\n",
    "Посчитаем собственные значения:\n",
    "$$ \\begin{vmatrix}\n",
    "  A-E\\lambda\n",
    " \\end{vmatrix} = \n",
    "\\begin{vmatrix}\n",
    "  5-\\lambda & -1 & -1\\\\\n",
    "  0 & 4-\\lambda & -1\\\\\n",
    "  0 & -1 & 4-\\lambda \n",
    " \\end{vmatrix} = (5-\\lambda)*((4-\\lambda)*(4-\\lambda)-1) = -\\lambda^3+13\\lambda^2-55\\lambda+75=0 $$\n",
    "Методом подбора корня получаем: $ \\lambda_1=5 $\n",
    "\n",
    "Последовательно группируем слагаемые, дающие множитель $\\lambda-5$:\n",
    "$$ -\\lambda^2(\\lambda-5)+8\\lambda(\\lambda-5)-15(\\lambda-5)=0 $$ \n",
    "$$ (\\lambda-5)(-\\lambda^2+8\\lambda-15) $$\n",
    "Решим квадратное уравнение $ \\lambda^2-8\\lambda+15=0 $\n",
    "\n",
    "$$ D=64-60=4 $$\n",
    "$$ \\lambda_2=\\frac{8+2}{2}=5 $$\n",
    "$$ \\lambda_3=\\frac{8-2}{2}=3 $$\n",
    "\n",
    "#### Собственные значения:\n",
    "$$ \\lambda_{1,2}=5 $$\n",
    "$$ \\lambda_2=3 $$\n"
   ]
  },
  {
   "attachments": {
    "2.png": {
     "image/png": "[encoded data removed]"
    }
   },
   "cell_type": "markdown",
   "id": "acd1196f",
   "metadata": {},
   "source": [
    "![2.png](attachment:2.png)"
   ]
  },
  {
   "cell_type": "markdown",
   "id": "6395728a",
   "metadata": {},
   "source": [
    "### Решение"
   ]
  },
  {
   "cell_type": "markdown",
   "id": "cdff26e7",
   "metadata": {},
   "source": [
    "а) Посчитаем собственные значения:\n",
    "$$ \\begin{vmatrix}\n",
    "  A-E\\lambda\n",
    " \\end{vmatrix} = \n",
    "\\begin{vmatrix}\n",
    "  7-\\lambda & -4 & -2\\\\\n",
    "  -2 & 5-\\lambda & -2\\\\\n",
    "  0 & 0 & 9-\\lambda \n",
    " \\end{vmatrix} = (9-\\lambda)*((7-\\lambda)*(5-\\lambda)-8) = -\\lambda^3+21\\lambda^2-135\\lambda+243=0 $$\n",
    "Методом подбора корня получаем: $ \\lambda_1=3 $\n",
    "\n",
    "Последовательно группируем слагаемые, дающие множитель $\\lambda-3$:\n",
    "$$ -\\lambda^2(\\lambda-3)+18\\lambda(\\lambda-3)-81(\\lambda-1)=0 $$ \n",
    "$$ (\\lambda-3)(-\\lambda^2+18\\lambda-81) $$\n",
    "Решим квадратное уравнение $ \\lambda^2-18\\lambda+81=0 $\n",
    "\n",
    "$$ D=0 $$\n",
    "$$ \\lambda_{2,3}=\\frac{18}{2}=9 $$\n",
    "\n",
    "#### Собственные значения:\n",
    "$$ \\lambda_1=3 $$\n",
    "$$ \\lambda_{2,3}=9 $$\n"
   ]
  },
  {
   "cell_type": "markdown",
   "id": "d60cafc3",
   "metadata": {},
   "source": [
    "Найдем собственный вектор для $ \\lambda_1=3 $"
   ]
  },
  {
   "cell_type": "markdown",
   "id": "7c042cf6",
   "metadata": {},
   "source": [
    "Расширенная матрица:\n",
    "$$\\left(\\begin{array} {l c c | r}\n",
    "  4 & -4 & 2 & 0 \\\\\n",
    "  -2 & 2 & -2 & 0 \\\\\n",
    "  0 & 0 & 6 & 0\n",
    " \\end{array}\\right)$$"
   ]
  },
  {
   "cell_type": "markdown",
   "id": "0572c774",
   "metadata": {},
   "source": [
    "Разделим первую строку на 4:\n",
    "$$\\left(\\begin{array} {l c c | r}\n",
    "  1 & -1 & ^1/_2 & 0 \\\\\n",
    "  -2 & 2 & -2 & 0 \\\\\n",
    "  0 & 0 & 6 & 0\n",
    " \\end{array}\\right)$$    "
   ]
  },
  {
   "cell_type": "markdown",
   "id": "2ea309e6",
   "metadata": {},
   "source": [
    "Прибавим ко второй строке две первых строки:\n",
    "$$\\left(\\begin{array} {l c c | r}\n",
    "  1 & -1 & ^1/_2 & 0 \\\\\n",
    "  0 & 0 & -1 & 0 \\\\\n",
    "  0 & 0 & 6 & 0\n",
    " \\end{array}\\right)$$    "
   ]
  },
  {
   "cell_type": "markdown",
   "id": "2cf9e75f",
   "metadata": {},
   "source": [
    "Вторая и третья строка линейно зависимы, следовательно, третью строку можно вычеркнуть:\n",
    "$$\\left(\\begin{array} {l c c | r}\n",
    "  1 & -1 & ^1/_2 & 0 \\\\\n",
    "  0 & 0 & -1 & 0\n",
    " \\end{array}\\right)$$  "
   ]
  },
  {
   "cell_type": "markdown",
   "id": "d43ec8a9",
   "metadata": {},
   "source": [
    "Общее решение:\n",
    "$$\\begin{pmatrix}\n",
    "  x_1 \\\\\n",
    "  x_2 \\\\\n",
    "  x_3\n",
    " \\end{pmatrix} =\n",
    " \\begin{pmatrix}\n",
    "  1 \\\\\n",
    "  1 \\\\\n",
    "  0\n",
    " \\end{pmatrix} C_1 $$"
   ]
  },
  {
   "cell_type": "markdown",
   "id": "c0dd2696",
   "metadata": {},
   "source": [
    "Пусть $C_1=1$, тогда собственный вектор:\n",
    "$$ \\upsilon_1= \n",
    "\\begin{pmatrix}\n",
    "  1 \\\\\n",
    "  1 \\\\\n",
    "  0\n",
    " \\end{pmatrix} $$"
   ]
  },
  {
   "cell_type": "markdown",
   "id": "37ed2df9",
   "metadata": {},
   "source": [
    "Найдем собственный вектор для $\\lambda_{2,3}=9$"
   ]
  },
  {
   "cell_type": "markdown",
   "id": "25aa0ca5",
   "metadata": {},
   "source": [
    "Расширенная матрица:\n",
    "$$\\left(\\begin{array} {l c c | r}\n",
    "  -2 & -4 & -2 & 0 \\\\\n",
    "  -2 & -4 & -2 & 0 \\\\\n",
    "  0 & 0 & 0 & 0\n",
    " \\end{array}\\right)$$"
   ]
  },
  {
   "cell_type": "markdown",
   "id": "be40c8ad",
   "metadata": {},
   "source": [
    "Первая и вторая строка линейно зависимы, следовательно, вторую строку можно вычеркнуть.\n",
    "Также вычеркнем нулевую третью строку и разделим первую строку на -2:\n",
    "$$\\left(\\begin{array} {l c c | r}\n",
    "  1 & 2 & 1 & 0 \n",
    " \\end{array}\\right)$$"
   ]
  },
  {
   "cell_type": "markdown",
   "id": "7f883e93",
   "metadata": {},
   "source": [
    "Общее решение:\n",
    "$$\\begin{pmatrix}\n",
    "  x_1 \\\\\n",
    "  x_2 \\\\\n",
    "  x_3 \n",
    " \\end{pmatrix} =\n",
    " \\begin{pmatrix}\n",
    "  -2 & -1 \\\\\n",
    "  1 & 0 \\\\\n",
    "  0 & 1\n",
    " \\end{pmatrix} \n",
    " \\begin{pmatrix} \n",
    " C_1 \\\\ C_2 \\end{pmatrix} = \n",
    " \\begin{pmatrix}\n",
    "  -2 \\\\\n",
    "  1  \\\\\n",
    "  0 \n",
    " \\end{pmatrix} C_1 + \n",
    " \\begin{pmatrix}\n",
    "  -1 \\\\\n",
    "  0 \\\\\n",
    "  1\n",
    " \\end{pmatrix} C_2 $$"
   ]
  },
  {
   "cell_type": "markdown",
   "id": "9937301d",
   "metadata": {},
   "source": [
    "Пусть $C_1=1, C_2=0$, тогда собственный вектор:\n",
    "$$ \\upsilon_2= \n",
    "\\begin{pmatrix}\n",
    "  -2 \\\\\n",
    "  1 \\\\\n",
    "  0\n",
    " \\end{pmatrix} $$"
   ]
  },
  {
   "cell_type": "markdown",
   "id": "e567cc9a",
   "metadata": {},
   "source": [
    "Пусть $C_1=0, C_2=1$, тогда собственный вектор:\n",
    "$$ \\upsilon_3= \n",
    "\\begin{pmatrix}\n",
    "  -1 \\\\\n",
    "  0 \\\\\n",
    "  1\n",
    " \\end{pmatrix} $$"
   ]
  },
  {
   "cell_type": "markdown",
   "id": "749fd6cf",
   "metadata": {},
   "source": [
    "Матрица собственных векторов\n",
    "$$ P= \n",
    "\\begin{pmatrix}\n",
    "  1 & -2 & -1\\\\\n",
    "  1 & 1 & 0\\\\\n",
    "  0 & 0 & 1\n",
    " \\end{pmatrix} $$"
   ]
  },
  {
   "cell_type": "markdown",
   "id": "f7c870ad",
   "metadata": {},
   "source": [
    "Диагональная матрица:\n",
    "$$ D= \n",
    "\\begin{pmatrix}\n",
    "  3 & 0 & 0\\\\\n",
    "  0 & 9 & 0\\\\\n",
    "  0 & 0 & 9\n",
    " \\end{pmatrix} $$"
   ]
  },
  {
   "cell_type": "markdown",
   "id": "db1c8d3e",
   "metadata": {},
   "source": [
    "Найдем обратную матрицу $ P^{-1} $"
   ]
  },
  {
   "cell_type": "markdown",
   "id": "163039a0",
   "metadata": {},
   "source": [
    "Матрица алгебраических дополнений\n",
    "$$ P.=\n",
    "\\begin{pmatrix}\n",
    "  1 & -1 & 0\\\\\n",
    "  2 & 1 & 0\\\\\n",
    "  1 & -1 & 3\n",
    " \\end{pmatrix} $$"
   ]
  },
  {
   "cell_type": "markdown",
   "id": "5f0a5606",
   "metadata": {},
   "source": [
    "Транспонированная матрица алгебраических дополнений\n",
    "$$ P.^T=\n",
    "\\begin{pmatrix}\n",
    "  1 & 2 & 1\\\\\n",
    "  -1 & 1 & -1\\\\\n",
    "  0 & 0 & 3\n",
    " \\end{pmatrix} $$"
   ]
  },
  {
   "cell_type": "markdown",
   "id": "f0ffdfee",
   "metadata": {},
   "source": [
    "$$ P^{-1} = \\frac{1}{det P}P.^T $$"
   ]
  },
  {
   "cell_type": "markdown",
   "id": "3b768139",
   "metadata": {},
   "source": [
    "Посчитаем определитель по третьему столбцу:\n",
    "$$det P=1*(1-(-2))=3$$    "
   ]
  },
  {
   "cell_type": "markdown",
   "id": "62bfc789",
   "metadata": {},
   "source": [
    "Обратная матрица:\n",
    "$$ P^{-1}=\n",
    "\\begin{pmatrix}\n",
    "  ^1/_3 & ^2/_3 & ^1/_3\\\\\n",
    "  ^{-1}/_3 & ^1/_3 &  ^{-1}/_3\\\\\n",
    "  0 & 0 & 1\n",
    " \\end{pmatrix} $$"
   ]
  },
  {
   "cell_type": "markdown",
   "id": "db299c8b",
   "metadata": {},
   "source": [
    "#### Диагонализация матрицы:\n",
    "$$ A = PDP^{-1} = \n",
    "\\begin{pmatrix}\n",
    "  1 & -2 & -1\\\\\n",
    "  1 & 1 & 0\\\\\n",
    "  0 & 0 & 1\n",
    " \\end{pmatrix} * \\begin{pmatrix}\n",
    "  3 & 0 & 0\\\\\n",
    "  0 & 9 & 0\\\\\n",
    "  0 & 0 & 9\n",
    " \\end{pmatrix} * \\begin{pmatrix}\n",
    "  ^1/_3 & ^2/_3 & ^1/_3\\\\\n",
    "  ^{-1}/_3 & ^1/_3 &  ^{-1}/_3\\\\\n",
    "  0 & 0 & 1\n",
    " \\end{pmatrix} $$"
   ]
  },
  {
   "cell_type": "markdown",
   "id": "dfc455a6",
   "metadata": {},
   "source": [
    "б) Посчитаем собственные значения:\n",
    "$$ \\begin{vmatrix}\n",
    "  A-E\\lambda\n",
    " \\end{vmatrix} = \n",
    "\\begin{vmatrix}\n",
    "  3-\\lambda & 0 & 0\\\\\n",
    "  1 & 2-\\lambda & -1\\\\\n",
    "  1 & -1 & 2-\\lambda \n",
    " \\end{vmatrix} = (3-\\lambda)*((2-\\lambda)*(2-\\lambda)-1) = -\\lambda^3+7\\lambda^2-15\\lambda+9=0 $$\n",
    "Методом подбора корня получаем: $ \\lambda_1=1 $\n",
    "\n",
    "Последовательно группируем слагаемые, дающие множитель $\\lambda-1$:\n",
    "$$ -\\lambda^2(\\lambda-1)+6\\lambda(\\lambda-1)-9(\\lambda-1)=0 $$ \n",
    "$$ (\\lambda-1)(-\\lambda^2+6\\lambda-9) $$\n",
    "Решим квадратное уравнение $ \\lambda^2-6\\lambda+9=0 $\n",
    "\n",
    "$$ D=0 $$\n",
    "$$ \\lambda_{2,3}=3 $$\n",
    "\n",
    "#### Собственные значения:\n",
    "$$ \\lambda_1=1 $$\n",
    "$$ \\lambda_{2,3}=3 $$\n"
   ]
  },
  {
   "cell_type": "markdown",
   "id": "dc12971c",
   "metadata": {},
   "source": [
    "Найдем собственный вектор для $ \\lambda_1=1 $"
   ]
  },
  {
   "cell_type": "markdown",
   "id": "c7360e77",
   "metadata": {},
   "source": [
    "Расширенная матрица:\n",
    "$$\\left(\\begin{array} {l c c | r}\n",
    "  2 & 0 & 0 & 0 \\\\\n",
    "  1 & 1 & -1 & 0 \\\\\n",
    "  1 & -1 & 1 & 0\n",
    " \\end{array}\\right)$$"
   ]
  },
  {
   "cell_type": "markdown",
   "id": "dc7661d3",
   "metadata": {},
   "source": [
    "Прибавим ко второй строке третью строку\n",
    "$$\\left(\\begin{array} {l c c | r}\n",
    "  2 & 0 & 0 & 0 \\\\\n",
    "  2 & 0 & 0 & 0 \\\\\n",
    "  1 & -1 & 1 & 0\n",
    " \\end{array}\\right)$$"
   ]
  },
  {
   "cell_type": "markdown",
   "id": "970acee2",
   "metadata": {},
   "source": [
    "Первая и вторая строка линейно зависимы, следовательно, вторую строку можно вычеркнуть\n",
    "$$\\left(\\begin{array} {l c c | r}\n",
    "  2 & 0 & 0 & 0 \\\\\n",
    "  1 & -1 & 1 & 0\n",
    " \\end{array}\\right)$$"
   ]
  },
  {
   "cell_type": "markdown",
   "id": "01093df7",
   "metadata": {},
   "source": [
    "Разделим первую строку на 2\n",
    "$$\\left(\\begin{array} {l c c | r}\n",
    "  1 & 0 & 0 & 0 \\\\\n",
    "  1 & -1 & 1 & 0\n",
    " \\end{array}\\right)$$"
   ]
  },
  {
   "cell_type": "markdown",
   "id": "1c06b46d",
   "metadata": {},
   "source": [
    "Общее решение:\n",
    "$$\\begin{pmatrix}\n",
    "  x_1 \\\\\n",
    "  x_2 \\\\\n",
    "  x_3\n",
    " \\end{pmatrix} =\n",
    " \\begin{pmatrix}\n",
    "  0 \\\\\n",
    "  1 \\\\\n",
    "  1\n",
    " \\end{pmatrix} C_1 $$"
   ]
  },
  {
   "cell_type": "markdown",
   "id": "865222cc",
   "metadata": {},
   "source": [
    "Пусть $C_1=1$, тогда собственный вектор:\n",
    "$$ \\upsilon_1= \n",
    "\\begin{pmatrix}\n",
    "  0 \\\\\n",
    "  1 \\\\\n",
    "  1\n",
    " \\end{pmatrix} $$"
   ]
  },
  {
   "cell_type": "markdown",
   "id": "b6a890d6",
   "metadata": {},
   "source": [
    "Найдем собственный вектор для $\\lambda_{2,3}=3$"
   ]
  },
  {
   "cell_type": "markdown",
   "id": "c2960bbe",
   "metadata": {},
   "source": [
    "Расширенная матрица:\n",
    "$$\\left(\\begin{array} {l c c | r}\n",
    "  0 & 0 & 0 & 0 \\\\\n",
    "  1 & -1 & -1 & 0 \\\\\n",
    "  1 & -1 & -1 & 0\n",
    " \\end{array}\\right)$$"
   ]
  },
  {
   "cell_type": "markdown",
   "id": "0cad08af",
   "metadata": {},
   "source": [
    "Вторая и третья строка линейно зависимы, следовательно, третью строку можно вычеркнуть.\n",
    "Также вычеркнем нулевую первую строку :\n",
    "$$\\left(\\begin{array} {l c c | r}\n",
    "  1 & -1 & -1 & 0 \n",
    " \\end{array}\\right)$$"
   ]
  },
  {
   "cell_type": "markdown",
   "id": "dd8f6abf",
   "metadata": {},
   "source": [
    "Общее решение:\n",
    "$$\\begin{pmatrix}\n",
    "  x_1 \\\\\n",
    "  x_2 \\\\\n",
    "  x_3 \n",
    " \\end{pmatrix} =\n",
    " \\begin{pmatrix}\n",
    "  1 & 1 \\\\\n",
    "  1 & 0 \\\\\n",
    "  0 & 1\n",
    " \\end{pmatrix} \n",
    " \\begin{pmatrix} \n",
    " C_1 \\\\ C_2 \\end{pmatrix} = \n",
    " \\begin{pmatrix}\n",
    "  1 \\\\\n",
    "  1  \\\\\n",
    "  0 \n",
    " \\end{pmatrix} C_1 + \n",
    " \\begin{pmatrix}\n",
    "  1 \\\\\n",
    "  0 \\\\\n",
    "  1\n",
    " \\end{pmatrix} C_2 $$"
   ]
  },
  {
   "cell_type": "markdown",
   "id": "36c6596b",
   "metadata": {},
   "source": [
    "Пусть $C_1=1, C_2=0$, тогда собственный вектор:\n",
    "$$ \\upsilon_2= \n",
    "\\begin{pmatrix}\n",
    "  1 \\\\\n",
    "  1 \\\\\n",
    "  0\n",
    " \\end{pmatrix} $$"
   ]
  },
  {
   "cell_type": "markdown",
   "id": "9088dae6",
   "metadata": {},
   "source": [
    "Пусть $C_1=0, C_2=1$, тогда собственный вектор:\n",
    "$$ \\upsilon_3= \n",
    "\\begin{pmatrix}\n",
    "  1 \\\\\n",
    "  0 \\\\\n",
    "  1\n",
    " \\end{pmatrix} $$"
   ]
  },
  {
   "cell_type": "markdown",
   "id": "c9e2cc8e",
   "metadata": {},
   "source": [
    "Матрица собственных векторов\n",
    "$$ P= \n",
    "\\begin{pmatrix}\n",
    "  0 & 1 & 1\\\\\n",
    "  1 & 1 & 0\\\\\n",
    "  1 & 0 & 1\n",
    " \\end{pmatrix} $$"
   ]
  },
  {
   "cell_type": "markdown",
   "id": "9df2bdc3",
   "metadata": {},
   "source": [
    "Диагональная матрица:\n",
    "$$ D= \n",
    "\\begin{pmatrix}\n",
    "  1 & 0 & 0\\\\\n",
    "  0 & 3 & 0\\\\\n",
    "  0 & 0 & 3\n",
    " \\end{pmatrix} $$"
   ]
  },
  {
   "cell_type": "markdown",
   "id": "cd425494",
   "metadata": {},
   "source": [
    "Найдем обратную матрицу $ P^{-1} $"
   ]
  },
  {
   "cell_type": "markdown",
   "id": "202a808a",
   "metadata": {},
   "source": [
    "Матрица алгебраических дополнений\n",
    "$$ P.=P.^T=\n",
    "\\begin{pmatrix}\n",
    "  1 & -1 & -1\\\\\n",
    "  -1 & -1 & 1\\\\\n",
    "  -1 & 1 & -1\n",
    " \\end{pmatrix} $$"
   ]
  },
  {
   "cell_type": "markdown",
   "id": "2898d41e",
   "metadata": {},
   "source": [
    "$$ P^{-1} = \\frac{1}{det P}P.^T $$"
   ]
  },
  {
   "cell_type": "markdown",
   "id": "dee0eb62",
   "metadata": {},
   "source": [
    "Посчитаем определитель по первому столбцу:\n",
    "$$ detP=(-1)*1+1*(-1)=-2 $$"
   ]
  },
  {
   "cell_type": "markdown",
   "id": "17182b1a",
   "metadata": {},
   "source": [
    "Обратная матрица:\n",
    "$$ P^{-1}=\n",
    "\\begin{pmatrix}\n",
    "  ^{-1}/_2 & ^1/_2 & ^1/_2\\\\\n",
    "  ^{1}/_2 & ^1/_2 &  ^{-1}/_2\\\\\n",
    "  ^1/_2 & ^{-1}/_2 & ^1/_2\n",
    " \\end{pmatrix} $$"
   ]
  },
  {
   "cell_type": "markdown",
   "id": "f3009599",
   "metadata": {},
   "source": [
    "#### Диагонализация матрицы:\n",
    "$$ A = PDP^{-1} = \n",
    "\\begin{pmatrix}\n",
    "  0 & 1 & 1\\\\\n",
    "  1 & 1 & 0\\\\\n",
    "  1 & 0 & 1\n",
    " \\end{pmatrix} * \\begin{pmatrix}\n",
    "  1 & 0 & 0\\\\\n",
    "  0 & 3 & 0\\\\\n",
    "  0 & 0 & 3\n",
    " \\end{pmatrix} * \\begin{pmatrix}\n",
    "  ^{-1}/_2 & ^1/_2 & ^1/_2\\\\\n",
    "  ^{1}/_2 & ^1/_2 &  ^{-1}/_2\\\\\n",
    "  ^1/_2 & ^{-1}/_2 & ^1/_2\n",
    " \\end{pmatrix} $$"
   ]
  },
  {
   "cell_type": "code",
   "execution_count": null,
   "id": "1050fe0f",
   "metadata": {},
   "outputs": [],
   "source": []
  }
 ],
 "metadata": {
  "kernelspec": {
   "display_name": "Python 3",
   "language": "python",
   "name": "python3"
  },
  "language_info": {
   "codemirror_mode": {
    "name": "ipython",
    "version": 3
   },
   "file_extension": ".py",
   "mimetype": "text/x-python",
   "name": "python",
   "nbconvert_exporter": "python",
   "pygments_lexer": "ipython3",
   "version": "3.8.8"
  }
 },
 "nbformat": 4,
 "nbformat_minor": 5
}
