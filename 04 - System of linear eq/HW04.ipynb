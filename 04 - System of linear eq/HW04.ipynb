{
 "cells": [
  {
   "attachments": {
    "1.png": {
     "image/png": "[encoded data removed]"
    }
   },
   "cell_type": "markdown",
   "id": "25138386",
   "metadata": {},
   "source": [
    "![1.png](attachment:1.png)"
   ]
  },
  {
   "cell_type": "markdown",
   "id": "b4b4642c",
   "metadata": {},
   "source": [
    "### Решение"
   ]
  },
  {
   "cell_type": "markdown",
   "id": "653f843d",
   "metadata": {},
   "source": [
    "Расширенная матрица:\n",
    "$$\\left(\\begin{array} {l c c | r}\n",
    "  1 & 1 & -1 & 0 \\\\\n",
    "  2 & 0 & 1 & 0 \\\\\n",
    " \\end{array}\\right)$$"
   ]
  },
  {
   "cell_type": "markdown",
   "id": "96d2d26d",
   "metadata": {},
   "source": [
    "Вычтем из второй строки две первых: \n",
    "$$\\left(\\begin{array} {l c c | r}\n",
    "  1 & 1 & -1 & 0 \\\\\n",
    "  0 & -2 & 3 & 0 \\\\\n",
    " \\end{array}\\right)$$"
   ]
  },
  {
   "cell_type": "markdown",
   "id": "f0328a6b",
   "metadata": {},
   "source": [
    "Разделим вторую строку на -2:\n",
    "$$\\left(\\begin{array} {l c c | r}\n",
    "  1 & 1 & -1 & 0 \\\\\n",
    "  0 & 1 & -^3/_2 & 0 \\\\\n",
    " \\end{array}\\right)$$"
   ]
  },
  {
   "cell_type": "markdown",
   "id": "608552a4",
   "metadata": {},
   "source": [
    "Вычтем из первой строки вторую:\n",
    "$$\\left(\\begin{array} {l c c | r}\n",
    "  1 & 0 & ^1/_2 & 0 \\\\\n",
    "  0 & 1 & -^3/_2 & 0 \\\\\n",
    " \\end{array}\\right)$$"
   ]
  },
  {
   "cell_type": "markdown",
   "id": "2a7d8b7d",
   "metadata": {},
   "source": [
    "Общее решение:\n",
    "$$\\begin{pmatrix}\n",
    "  x_1 \\\\\n",
    "  x_2 \\\\\n",
    "  x_3\n",
    " \\end{pmatrix} =\n",
    " \\begin{pmatrix}\n",
    "  -^1/_2 \\\\\n",
    "  ^3/_2 \\\\\n",
    "  1\n",
    " \\end{pmatrix} C_1 $$"
   ]
  },
  {
   "attachments": {
    "2.png": {
     "image/png": "[encoded data removed]"
    }
   },
   "cell_type": "markdown",
   "id": "7106cb0c",
   "metadata": {},
   "source": [
    "![2.png](attachment:2.png)"
   ]
  },
  {
   "cell_type": "markdown",
   "id": "de2cba7a",
   "metadata": {},
   "source": [
    "### Решение"
   ]
  },
  {
   "cell_type": "markdown",
   "id": "94e62b93",
   "metadata": {},
   "source": [
    "Расширенная матрица:\n",
    "$$\\left(\\begin{array} {l c c c | r}\n",
    "  2 & 2 & -1 & 1 & 0 \\\\\n",
    "  -1 & 1 & -1 & 1 & 0 \\\\\n",
    "  1 & 3 & -2 & 2 & 0\n",
    " \\end{array}\\right)$$"
   ]
  },
  {
   "cell_type": "markdown",
   "id": "86bbad61",
   "metadata": {},
   "source": [
    "Прибавим к первой строке вторую:\n",
    "$$\\left(\\begin{array} {l c c c | r}\n",
    "  1 & 3 & -2 & 2 & 0 \\\\\n",
    "  -1 & 1 & -1 & 1 & 0 \\\\\n",
    "  1 & 3 & -2 & 2 & 0\n",
    " \\end{array}\\right)$$"
   ]
  },
  {
   "cell_type": "markdown",
   "id": "9c606841",
   "metadata": {},
   "source": [
    "Первая и третья строка идентичны (линейно зависимы), следовательно, третью строку можно вычеркнуть:\n",
    "$$\\left(\\begin{array} {l c c c | r}\n",
    "  1 & 3 & -2 & 2 & 0 \\\\\n",
    "  -1 & 1 & -1 & 1 & 0\n",
    " \\end{array}\\right)$$"
   ]
  },
  {
   "cell_type": "markdown",
   "id": "34072a16",
   "metadata": {},
   "source": [
    "Прибавим ко второй строке первую и разделим на 4:\n",
    "$$\\left(\\begin{array} {l c c c | r}\n",
    "  1 & 3 & -2 & 2 & 0 \\\\\n",
    "  0 & 1 & -^3/_4 & ^3/_4 & 0\n",
    " \\end{array}\\right)$$"
   ]
  },
  {
   "cell_type": "markdown",
   "id": "b92b30de",
   "metadata": {},
   "source": [
    "Вычтем из первой строки вторую, умноженную на 3:\n",
    "$$\\left(\\begin{array} {l c c c | r}\n",
    "  1 & 0 & ^1/_4 & -^1/_4 & 0 \\\\\n",
    "  0 & 1 & -^3/_4 & ^3/_4 & 0\n",
    " \\end{array}\\right)$$"
   ]
  },
  {
   "cell_type": "markdown",
   "id": "e3674dd9",
   "metadata": {},
   "source": [
    "Общее решение:\n",
    "$$\\begin{pmatrix}\n",
    "  x_1 \\\\\n",
    "  x_2 \\\\\n",
    "  x_3 \\\\\n",
    "  x_4\n",
    " \\end{pmatrix} =\n",
    " \\begin{pmatrix}\n",
    "  -^1/_4 & ^1/_4 \\\\\n",
    "  ^3/_4 & -^3/_4 \\\\\n",
    "  1 & 0 \\\\\n",
    "  0 & 1\n",
    " \\end{pmatrix} \n",
    " \\begin{pmatrix} \n",
    " C_1 \\\\ C_2 \\end{pmatrix} = \n",
    " \\begin{pmatrix}\n",
    "  -^1/_4 \\\\\n",
    "  ^3/_4  \\\\\n",
    "  1  \\\\\n",
    "  0 \n",
    " \\end{pmatrix} С_1 + \n",
    " \\begin{pmatrix}\n",
    "  ^1/_4 \\\\\n",
    "  -^3/_4 \\\\\n",
    "  0 \\\\\n",
    "  1\n",
    " \\end{pmatrix} C_2 $$"
   ]
  },
  {
   "attachments": {
    "3.png": {
     "image/png": "[encoded data removed]"
    }
   },
   "cell_type": "markdown",
   "id": "33d90234",
   "metadata": {},
   "source": [
    "![3.png](attachment:3.png)"
   ]
  },
  {
   "cell_type": "code",
   "execution_count": null,
   "id": "06a9787b",
   "metadata": {},
   "outputs": [],
   "source": []
  }
 ],
 "metadata": {
  "kernelspec": {
   "display_name": "Python 3",
   "language": "python",
   "name": "python3"
  },
  "language_info": {
   "codemirror_mode": {
    "name": "ipython",
    "version": 3
   },
   "file_extension": ".py",
   "mimetype": "text/x-python",
   "name": "python",
   "nbconvert_exporter": "python",
   "pygments_lexer": "ipython3",
   "version": "3.8.8"
  }
 },
 "nbformat": 4,
 "nbformat_minor": 5
}
