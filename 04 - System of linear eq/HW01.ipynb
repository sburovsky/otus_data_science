{
 "cells": [
  {
   "attachments": {
    "1.png": {
     "image/png": "[encoded data removed]"
    }
   },
   "cell_type": "markdown",
   "id": "25138386",
   "metadata": {},
   "source": [
    "![1.png](attachment:1.png)"
   ]
  },
  {
   "cell_type": "markdown",
   "id": "b4b4642c",
   "metadata": {},
   "source": [
    "### Решение"
   ]
  },
  {
   "cell_type": "markdown",
   "id": "653f843d",
   "metadata": {},
   "source": [
    "Расширенная матрица:\n",
    "$$\\left(\\begin{array} {l c c | r}\n",
    "  1 & 1 & -1 & 0 \\\\\n",
    "  2 & 0 & 1 & 0 \\\\\n",
    " \\end{array}\\right)$$"
   ]
  },
  {
   "cell_type": "markdown",
   "id": "96d2d26d",
   "metadata": {},
   "source": [
    "Вычтем из второй строки две первых: \n",
    "$$\\left(\\begin{array} {l c c | r}\n",
    "  1 & 1 & -1 & 0 \\\\\n",
    "  0 & -2 & 3 & 0 \\\\\n",
    " \\end{array}\\right)$$"
   ]
  },
  {
   "cell_type": "markdown",
   "id": "f0328a6b",
   "metadata": {},
   "source": [
    "Разделим вторую строку на -2:\n",
    "$$\\left(\\begin{array} {l c c | r}\n",
    "  1 & 1 & -1 & 0 \\\\\n",
    "  0 & 1 & -^3/_2 & 0 \\\\\n",
    " \\end{array}\\right)$$"
   ]
  },
  {
   "cell_type": "markdown",
   "id": "608552a4",
   "metadata": {},
   "source": [
    "Вычтем из первой строки вторую:\n",
    "$$\\left(\\begin{array} {l c c | r}\n",
    "  1 & 0 & ^1/_2 & 0 \\\\\n",
    "  0 & 1 & -^3/_2 & 0 \\\\\n",
    " \\end{array}\\right)$$"
   ]
  },
  {
   "cell_type": "markdown",
   "id": "2a7d8b7d",
   "metadata": {},
   "source": [
    "#### Общее решение:\n",
    "$$\\begin{pmatrix}\n",
    "  x_1 \\\\\n",
    "  x_2 \\\\\n",
    "  x_3\n",
    " \\end{pmatrix} =\n",
    " \\begin{pmatrix}\n",
    "  -^1/_2 \\\\\n",
    "  ^3/_2 \\\\\n",
    "  1\n",
    " \\end{pmatrix} C_1 $$"
   ]
  },
  {
   "attachments": {
    "2.png": {
     "image/png": "[encoded data removed]"
    }
   },
   "cell_type": "markdown",
   "id": "7106cb0c",
   "metadata": {},
   "source": [
    "![2.png](attachment:2.png)"
   ]
  },
  {
   "cell_type": "markdown",
   "id": "de2cba7a",
   "metadata": {},
   "source": [
    "### Решение"
   ]
  },
  {
   "cell_type": "markdown",
   "id": "94e62b93",
   "metadata": {},
   "source": [
    "Расширенная матрица:\n",
    "$$\\left(\\begin{array} {l c c c | r}\n",
    "  2 & 2 & -1 & 1 & 0 \\\\\n",
    "  -1 & 1 & -1 & 1 & 0 \\\\\n",
    "  1 & 3 & -2 & 2 & 0\n",
    " \\end{array}\\right)$$"
   ]
  },
  {
   "cell_type": "markdown",
   "id": "86bbad61",
   "metadata": {},
   "source": [
    "Прибавим к первой строке вторую:\n",
    "$$\\left(\\begin{array} {l c c c | r}\n",
    "  1 & 3 & -2 & 2 & 0 \\\\\n",
    "  -1 & 1 & -1 & 1 & 0 \\\\\n",
    "  1 & 3 & -2 & 2 & 0\n",
    " \\end{array}\\right)$$"
   ]
  },
  {
   "cell_type": "markdown",
   "id": "9c606841",
   "metadata": {},
   "source": [
    "Первая и третья строка идентичны (линейно зависимы), следовательно, третью строку можно вычеркнуть:\n",
    "$$\\left(\\begin{array} {l c c c | r}\n",
    "  1 & 3 & -2 & 2 & 0 \\\\\n",
    "  -1 & 1 & -1 & 1 & 0\n",
    " \\end{array}\\right)$$"
   ]
  },
  {
   "cell_type": "markdown",
   "id": "34072a16",
   "metadata": {},
   "source": [
    "Прибавим ко второй строке первую и разделим на 4:\n",
    "$$\\left(\\begin{array} {l c c c | r}\n",
    "  1 & 3 & -2 & 2 & 0 \\\\\n",
    "  0 & 1 & -^3/_4 & ^3/_4 & 0\n",
    " \\end{array}\\right)$$"
   ]
  },
  {
   "cell_type": "markdown",
   "id": "b92b30de",
   "metadata": {},
   "source": [
    "Вычтем из первой строки вторую, умноженную на 3:\n",
    "$$\\left(\\begin{array} {l c c c | r}\n",
    "  1 & 0 & ^1/_4 & -^1/_4 & 0 \\\\\n",
    "  0 & 1 & -^3/_4 & ^3/_4 & 0\n",
    " \\end{array}\\right)$$"
   ]
  },
  {
   "cell_type": "markdown",
   "id": "e3674dd9",
   "metadata": {},
   "source": [
    "#### Общее решение:\n",
    "$$\\begin{pmatrix}\n",
    "  x_1 \\\\\n",
    "  x_2 \\\\\n",
    "  x_3 \\\\\n",
    "  x_4\n",
    " \\end{pmatrix} =\n",
    " \\begin{pmatrix}\n",
    "  -^1/_4 & ^1/_4 \\\\\n",
    "  ^3/_4 & -^3/_4 \\\\\n",
    "  1 & 0 \\\\\n",
    "  0 & 1\n",
    " \\end{pmatrix} \n",
    " \\begin{pmatrix} \n",
    " C_1 \\\\ C_2 \\end{pmatrix} = \n",
    " \\begin{pmatrix}\n",
    "  -^1/_4 \\\\\n",
    "  ^3/_4  \\\\\n",
    "  1  \\\\\n",
    "  0 \n",
    " \\end{pmatrix} C_1 + \n",
    " \\begin{pmatrix}\n",
    "  ^1/_4 \\\\\n",
    "  -^3/_4 \\\\\n",
    "  0 \\\\\n",
    "  1\n",
    " \\end{pmatrix} C_2 $$"
   ]
  },
  {
   "attachments": {
    "Part2.png": {
     "image/png": "[encoded data removed]"
    }
   },
   "cell_type": "markdown",
   "id": "59401d50",
   "metadata": {},
   "source": [
    "![Part2.png](attachment:Part2.png)"
   ]
  },
  {
   "cell_type": "markdown",
   "id": "97a5d0d5",
   "metadata": {},
   "source": [
    "1. Расширенная матрица\n",
    "$$\\left(\\begin{array} {l c c | r}\n",
    "  5 & -5 & 4 & 0 \\\\\n",
    "  3 & -1 & 3 & 0 \\\\\n",
    "  1 & 7 & -1 & 0\n",
    " \\end{array}\\right)$$"
   ]
  },
  {
   "cell_type": "markdown",
   "id": "28b4d069",
   "metadata": {},
   "source": [
    "Разделим первую строку на 5:\n",
    "$$\\left(\\begin{array} {l c c | r}\n",
    "  1 & -1 & ^4/_5 & 0 \\\\\n",
    "  3 & -1 & 3 & 0 \\\\\n",
    "  1 & 7 & -1 & 0\n",
    " \\end{array}\\right)$$"
   ]
  },
  {
   "cell_type": "markdown",
   "id": "0b785a0b",
   "metadata": {},
   "source": [
    "Вычтем из второй строки три первых строки:\n",
    "$$\\left(\\begin{array} {l c c | r}\n",
    "  1 & -1 & ^4/_5 & 0 \\\\\n",
    "  0 & 2 & ^3/_5 & 0 \\\\\n",
    "  1 & 7 & -1 & 0\n",
    " \\end{array}\\right)$$ "
   ]
  },
  {
   "cell_type": "markdown",
   "id": "34a9f44f",
   "metadata": {},
   "source": [
    "Вычтем из третьей строки первую:\n",
    "$$\\left(\\begin{array} {l c c | r}\n",
    "  1 & -1 & ^4/_5 & 0 \\\\\n",
    "  0 & 2 & ^3/_5 & 0 \\\\\n",
    "  0 & 8 & -^9/_5 & 0\n",
    " \\end{array}\\right)$$ "
   ]
  },
  {
   "cell_type": "markdown",
   "id": "055cf772",
   "metadata": {},
   "source": [
    "Прибавим ко второй строке первую:\n",
    "$$\\left(\\begin{array} {l c c | r}\n",
    "  1 & -1 & ^4/_5 & 0 \\\\\n",
    "  0 & 1 & ^7/_5 & 0 \\\\\n",
    "  0 & 8 & -^9/_5 & 0\n",
    " \\end{array}\\right)$$     "
   ]
  },
  {
   "cell_type": "markdown",
   "id": "11effddb",
   "metadata": {},
   "source": [
    "Прибавим к первой строке вторую:\n",
    "$$\\left(\\begin{array} {l c c | r}\n",
    "  1 & 0 & ^{11}/_5 & 0 \\\\\n",
    "  0 & 1 & ^7/_5 & 0 \\\\\n",
    "  0 & 8 & -^9/_5 & 0\n",
    " \\end{array}\\right)$$        "
   ]
  },
  {
   "cell_type": "markdown",
   "id": "0ad9183b",
   "metadata": {},
   "source": [
    "Вычтем из третьей строки восемь первых строк:\n",
    "$$\\left(\\begin{array} {l c c | r}\n",
    "  1 & 0 & ^{11}/_5 & 0 \\\\\n",
    "  0 & 1 & ^7/_5 & 0 \\\\\n",
    "  0 & 0 & -13 & 0\n",
    " \\end{array}\\right)$$            "
   ]
  },
  {
   "cell_type": "markdown",
   "id": "0c51e056",
   "metadata": {},
   "source": [
    "#### Общее решение: \n",
    "$$\\begin{pmatrix}\n",
    "  x_1 \\\\\n",
    "  x_2 \\\\\n",
    "  x_3\n",
    " \\end{pmatrix} =\n",
    " \\begin{pmatrix}\n",
    "  0 \\\\\n",
    "  0 \\\\\n",
    "  0\n",
    " \\end{pmatrix}$$     "
   ]
  },
  {
   "cell_type": "markdown",
   "id": "d444af70",
   "metadata": {},
   "source": [
    "2. Расширенная матрица\n",
    "$$\\left(\\begin{array} {l c | r}\n",
    "  -4 & 1 & 1 \\\\\n",
    "  1 & 3 & -6\n",
    " \\end{array}\\right)$$"
   ]
  },
  {
   "cell_type": "markdown",
   "id": "f0fe322a",
   "metadata": {},
   "source": [
    "Поменяем местами строки:\n",
    "$$\\left(\\begin{array} {l c | r}\n",
    "  1 & 3 & -6 \\\\\n",
    " -4 & 1 & 1\n",
    " \\end{array}\\right)$$"
   ]
  },
  {
   "cell_type": "markdown",
   "id": "1bcf653f",
   "metadata": {},
   "source": [
    "Прибавим ко второй строке четыре первых строки:\n",
    "$$\\left(\\begin{array} {l c | r}\n",
    "  1 & 3 & -6 \\\\\n",
    " 0 & 13 & -23\n",
    " \\end{array}\\right)$$"
   ]
  },
  {
   "cell_type": "markdown",
   "id": "83efebcd",
   "metadata": {},
   "source": [
    "Разделим вторую строку на 13:\n",
    "$$\\left(\\begin{array} {l c | r}\n",
    "  1 & 3 & -6 \\\\\n",
    " 0 & 1 & -^{23}/_{13}\n",
    " \\end{array}\\right)$$"
   ]
  },
  {
   "cell_type": "markdown",
   "id": "c4d985de",
   "metadata": {},
   "source": [
    "Вычтем из первой строки три вторых строки:\n",
    "$$\\left(\\begin{array} {l c | r}\n",
    "  1 & 0 & -^9/_{13} \\\\\n",
    " 0 & 1 & -^{23}/_{13}\n",
    " \\end{array}\\right)$$"
   ]
  },
  {
   "cell_type": "markdown",
   "id": "bd929b7a",
   "metadata": {},
   "source": [
    "#### Общее решение: \n",
    "$$\\begin{pmatrix}\n",
    "  x_1 \\\\\n",
    "  x_2\n",
    " \\end{pmatrix} =\n",
    " \\begin{pmatrix}\n",
    "  -^9/_{13} \\\\\n",
    "  -^{23}/_{13}\n",
    " \\end{pmatrix}$$     "
   ]
  },
  {
   "cell_type": "markdown",
   "id": "1a81c4e0",
   "metadata": {},
   "source": [
    "3. Расширенная матрица\n",
    "$$\\left(\\begin{array} {l c c | r}\n",
    "  3 & 2 & -1 & 4 \\\\\n",
    "  2 & -1 & 5 & 23 \\\\\n",
    "  1 & 7 & -1 & 5\n",
    " \\end{array}\\right)$$"
   ]
  },
  {
   "cell_type": "markdown",
   "id": "b3d844b1",
   "metadata": {},
   "source": [
    "Вычтем из первой строки вторую:\n",
    "$$\\left(\\begin{array} {l c c | r}\n",
    "  1 & 3 & -6 & -19 \\\\\n",
    "  2 & -1 & 5 & 23 \\\\\n",
    "  1 & 7 & -1 & 5\n",
    " \\end{array}\\right)$$"
   ]
  },
  {
   "cell_type": "markdown",
   "id": "3db03943",
   "metadata": {},
   "source": [
    "Вычтем из второй строки две третьих строки:\n",
    "$$\\left(\\begin{array} {l c c | r}\n",
    "  1 & 3 & -6 & -19 \\\\\n",
    "  0 & -15 & 7 & 13 \\\\\n",
    "  1 & 7 & -1 & 5\n",
    " \\end{array}\\right)$$"
   ]
  },
  {
   "cell_type": "markdown",
   "id": "02a07b7e",
   "metadata": {},
   "source": [
    "Вычтем из третьей строки первую:\n",
    "$$\\left(\\begin{array} {l c c | r}\n",
    "  1 & 3 & -6 & -19 \\\\\n",
    "  0 & -15 & 7 & 13 \\\\\n",
    "  0 & 4 & 5 & 24\n",
    " \\end{array}\\right)$$"
   ]
  },
  {
   "cell_type": "markdown",
   "id": "c425fdb0",
   "metadata": {},
   "source": [
    "Умножим третью строку на 3 и разделим на 4:\n",
    "$$\\left(\\begin{array} {l c c | r}\n",
    "  1 & 3 & -6 & -19 \\\\\n",
    "  0 & -15 & 7 & 13 \\\\\n",
    "  0 & 3 & ^{15}/_4 & 18\n",
    " \\end{array}\\right)$$"
   ]
  },
  {
   "cell_type": "markdown",
   "id": "761ea765",
   "metadata": {},
   "source": [
    "Вычтем из первой строки третью:\n",
    "$$\\left(\\begin{array} {l c c | r}\n",
    "  1 & 0 & -^{39}/_4 & -37 \\\\\n",
    "  0 & -15 & 7 & 13 \\\\\n",
    "  0 & 3 & ^{15}/_4 & 18\n",
    " \\end{array}\\right)$$"
   ]
  },
  {
   "cell_type": "markdown",
   "id": "5e53e61c",
   "metadata": {},
   "source": [
    "Умножим третью строку на 5:\n",
    "$$\\left(\\begin{array} {l c c | r}\n",
    "  1 & 0 & -^{39}/_4 & -37 \\\\\n",
    "  0 & -15 & 7 & 13 \\\\\n",
    "  0 & 15 & ^{75}/_4 & 90\n",
    " \\end{array}\\right)$$"
   ]
  },
  {
   "cell_type": "markdown",
   "id": "61aaf7f7",
   "metadata": {},
   "source": [
    "Прибавим к третьей строке вторую:\n",
    "$$\\left(\\begin{array} {l c c | r}\n",
    "  1 & 0 & -^{39}/_4 & -37 \\\\\n",
    "  0 & -15 & 7 & 13 \\\\\n",
    "  0 & 0 & ^{103}/_4 & 103\n",
    " \\end{array}\\right)$$"
   ]
  },
  {
   "cell_type": "markdown",
   "id": "ad761566",
   "metadata": {},
   "source": [
    "Умножим третью строку на $^4/_{103}$:\n",
    "$$\\left(\\begin{array} {l c c | r}\n",
    "  1 & 0 & -^{39}/_4 & -37 \\\\\n",
    "  0 & -15 & 7 & 13 \\\\\n",
    "  0 & 0 & 1 & 4\n",
    " \\end{array}\\right)$$"
   ]
  },
  {
   "cell_type": "markdown",
   "id": "534c7487",
   "metadata": {},
   "source": [
    "Прибавим к первой строке третью, умноженную на $^{39}/_4$"
   ]
  },
  {
   "cell_type": "markdown",
   "id": "0bb67587",
   "metadata": {},
   "source": [
    "$$\\left(\\begin{array} {l c c | r}\n",
    "  1 & 0 & 0 & 2 \\\\\n",
    "  0 & -15 & 7 & 13 \\\\\n",
    "  0 & 0 & 1 & 4\n",
    " \\end{array}\\right)$$"
   ]
  },
  {
   "cell_type": "markdown",
   "id": "b148af78",
   "metadata": {},
   "source": [
    "Разделим вторую строку на -15:\n",
    "$$\\left(\\begin{array} {l c c | r}\n",
    "  1 & 0 & 0 & 2 \\\\\n",
    "  0 & 1 & -^7/_{15} & -^{13}/_{15} \\\\\n",
    "  0 & 0 & 1 & 4\n",
    " \\end{array}\\right)$$"
   ]
  },
  {
   "cell_type": "markdown",
   "id": "ae14372b",
   "metadata": {},
   "source": [
    "Прибавим ко второй строке третью, умноженную на $^7/_{15}$\n",
    "$$\\left(\\begin{array} {l c c | r}\n",
    "  1 & 0 & 0 & 2 \\\\\n",
    "  0 & 1 & 0 & 1 \\\\\n",
    "  0 & 0 & 1 & 4\n",
    " \\end{array}\\right)$$"
   ]
  },
  {
   "cell_type": "markdown",
   "id": "3e2f4236",
   "metadata": {},
   "source": [
    "#### Общее решение: \n",
    "$$\\begin{pmatrix}\n",
    "  x_1 \\\\\n",
    "  x_2 \\\\\n",
    "  x_3\n",
    " \\end{pmatrix} =\n",
    " \\begin{pmatrix}\n",
    "  2 \\\\\n",
    "  1 \\\\\n",
    "  4\n",
    " \\end{pmatrix}$$     "
   ]
  },
  {
   "cell_type": "markdown",
   "id": "ba6b537c",
   "metadata": {},
   "source": [
    "4. Расширенная матрица\n",
    "$$\\left(\\begin{array} {l c c | r}\n",
    "  2 & 3 & 5 & 1 \\\\\n",
    "  -4 & 1 & 2 & -7 \\\\\n",
    "  1 & 7 & 14 & -5\n",
    " \\end{array}\\right)$$"
   ]
  },
  {
   "cell_type": "markdown",
   "id": "f7cb54df",
   "metadata": {},
   "source": [
    "Вычтем из первой строки третью:\n",
    "$$\\left(\\begin{array} {l c c | r}\n",
    "  1 & -4 & -9 & 6 \\\\\n",
    "  -4 & 1 & 2 & -7 \\\\\n",
    "  1 & 7 & 14 & -5\n",
    " \\end{array}\\right)$$"
   ]
  },
  {
   "cell_type": "markdown",
   "id": "8a0ddaad",
   "metadata": {},
   "source": [
    "Прибавим ко второй строке четыре первых строки:\n",
    "$$\\left(\\begin{array} {l c c | r}\n",
    "  1 & -4 & -9 & 6 \\\\\n",
    "  0 & -15 & -34 & 17 \\\\\n",
    "  1 & 7 & 14 & -5\n",
    " \\end{array}\\right)$$"
   ]
  },
  {
   "cell_type": "markdown",
   "id": "90535dbf",
   "metadata": {},
   "source": [
    "Вычтем из третьей строки первую:\n",
    "$$\\left(\\begin{array} {l c c | r}\n",
    "  1 & -4 & -9 & 6 \\\\\n",
    "  0 & -15 & -34 & 17 \\\\\n",
    "  0 & 11 & 23 & -11\n",
    " \\end{array}\\right)$$"
   ]
  },
  {
   "cell_type": "markdown",
   "id": "8e030ef4",
   "metadata": {},
   "source": [
    "Вычтем из первой строки вторую и третью строку:\n",
    "$$\\left(\\begin{array} {l c c | r}\n",
    "  1 & 0 & 2 & 0 \\\\\n",
    "  0 & -15 & -34 & 17 \\\\\n",
    "  0 & 11 & 23 & -11\n",
    " \\end{array}\\right)$$"
   ]
  },
  {
   "cell_type": "markdown",
   "id": "a1e596c2",
   "metadata": {},
   "source": [
    "Прибавим ко второй строке третью:\n",
    "$$\\left(\\begin{array} {l c c | r}\n",
    "  1 & 0 & 2 & 0 \\\\\n",
    "  0 & -4 & -11 & 6 \\\\\n",
    "  0 & 11 & 23 & -11\n",
    " \\end{array}\\right)$$"
   ]
  },
  {
   "cell_type": "markdown",
   "id": "ffcdd553",
   "metadata": {},
   "source": [
    "Разделим вторую строку на -4:\n",
    "$$\\left(\\begin{array} {l c c | r}\n",
    "  1 & 0 & 2 & 0 \\\\\n",
    "  0 & 1 & ^{11}/_4 & -^3/_2 \\\\\n",
    "  0 & 11 & 23 & -11\n",
    " \\end{array}\\right)$$"
   ]
  },
  {
   "cell_type": "markdown",
   "id": "152f4ba6",
   "metadata": {},
   "source": [
    "Вычтем из третьей строки одиннадцать вторых строк:\n",
    "$$\\left(\\begin{array} {l c c | r}\n",
    "  1 & 0 & 2 & 0 \\\\\n",
    "  0 & 1 & ^{11}/_4 & -^3/_2 \\\\\n",
    "  0 & 0 & -^{29}/_4 & ^{11}/_2\n",
    " \\end{array}\\right)$$"
   ]
  },
  {
   "cell_type": "markdown",
   "id": "04b65356",
   "metadata": {},
   "source": [
    "Умножим третью строку на $-^4/_{29}$"
   ]
  },
  {
   "cell_type": "markdown",
   "id": "ca5749f4",
   "metadata": {},
   "source": [
    "$$\\left(\\begin{array} {l c c | r}\n",
    "  1 & 0 & 2 & 0 \\\\\n",
    "  0 & 1 & ^{11}/_4 & -^3/_2 \\\\\n",
    "  0 & 0 & 1 & -^{22}/_{29}\n",
    " \\end{array}\\right)$$"
   ]
  },
  {
   "cell_type": "markdown",
   "id": "d335d5e2",
   "metadata": {},
   "source": [
    "Вычтем из первой строки две третьих строки:\n",
    "$$\\left(\\begin{array} {l c c | r}\n",
    "  1 & 0 & 0 & ^{44}/_{29} \\\\\n",
    "  0 & 1 & ^{11}/_4 & -^3/_2 \\\\\n",
    "  0 & 0 & 1 & -^{22}/_{29}\n",
    " \\end{array}\\right)$$"
   ]
  },
  {
   "cell_type": "markdown",
   "id": "e71a00b3",
   "metadata": {},
   "source": [
    "Прибавим ко второй строке третью, умноженную на $-^{11}/_4$\n",
    "$$\\left(\\begin{array} {l c c | r}\n",
    "  1 & 0 & 0 & ^{44}/_{29} \\\\\n",
    "  0 & 1 & 0 & ^{17}/_{29} \\\\\n",
    "  0 & 0 & 1 & -^{22}/_{29}\n",
    " \\end{array}\\right)$$"
   ]
  },
  {
   "cell_type": "markdown",
   "id": "97320558",
   "metadata": {},
   "source": [
    "#### Общее решение: \n",
    "$$\\begin{pmatrix}\n",
    "  x_1 \\\\\n",
    "  x_2 \\\\\n",
    "  x_3\n",
    " \\end{pmatrix} =\n",
    " \\begin{pmatrix}\n",
    "  ^{44}/_{29} \\\\\n",
    "  ^{17}/_{29} \\\\\n",
    "  -^{22}/_{29}\n",
    " \\end{pmatrix}$$     "
   ]
  },
  {
   "cell_type": "markdown",
   "id": "c3169d30",
   "metadata": {},
   "source": [
    "5. Расширенная матрица\n",
    "$$\\left(\\begin{array} {l c c c c | r}\n",
    "  1 & -1 & 1 & -1 & 1 & 2 \\\\\n",
    "  2 & -3 & 2 & 0 & 2 & 4 \\\\\n",
    "  3 & -4 & 3 & -1 & 3 & 6\n",
    " \\end{array}\\right)$$"
   ]
  },
  {
   "cell_type": "markdown",
   "id": "00b69200",
   "metadata": {},
   "source": [
    "Вычтем из второй строки две первых строки:\n",
    "$$\\left(\\begin{array} {l c c c c | r}\n",
    "  1 & -1 & 1 & -1 & 1 & 2 \\\\\n",
    "  0 & -1 & 0 & 2 & 0 & 0 \\\\\n",
    "  3 & -4 & 3 & -1 & 3 & 6\n",
    " \\end{array}\\right)$$"
   ]
  },
  {
   "cell_type": "markdown",
   "id": "da74726b",
   "metadata": {},
   "source": [
    "Вычтем из третьей строки три первых строки:\n",
    "$$\\left(\\begin{array} {l c c c c | r}\n",
    "  1 & -1 & 1 & -1 & 1 & 2 \\\\\n",
    "  0 & -1 & 0 & 2 & 0 & 0 \\\\\n",
    "  0 & -1 & 0 & 2 & 0 & 0\n",
    " \\end{array}\\right)$$    "
   ]
  },
  {
   "cell_type": "markdown",
   "id": "488d0b0b",
   "metadata": {},
   "source": [
    "Вторая и третья строка идентичны (линейно зависимы), следовательно, третью строку можно вычеркнуть: \n",
    "$$\\left(\\begin{array} {l c c c c | r}\n",
    "  1 & -1 & 1 & -1 & 1 & 2 \\\\\n",
    "  0 & -1 & 0 & 2 & 0 & 0\n",
    " \\end{array}\\right)$$"
   ]
  },
  {
   "cell_type": "markdown",
   "id": "348e7db6",
   "metadata": {},
   "source": [
    "Вычтем из первой строки вторую строку:\n",
    "$$\\left(\\begin{array} {l c c c c | r}\n",
    "  1 & 0 & 1 & -3 & 1 & 2 \\\\\n",
    "  0 & -1 & 0 & 2 & 0 & 0\n",
    " \\end{array}\\right)$$    "
   ]
  },
  {
   "cell_type": "markdown",
   "id": "47e60cc2",
   "metadata": {},
   "source": [
    "Умножим вторую строку на -1:\n",
    "$$\\left(\\begin{array} {l c c c c | r}\n",
    "  1 & 0 & 1 & -3 & 1 & 2 \\\\\n",
    "  0 & 1 & 0 & -2 & 0 & 0\n",
    " \\end{array}\\right)$$    "
   ]
  },
  {
   "cell_type": "markdown",
   "id": "b5de5694",
   "metadata": {},
   "source": [
    "#### Общее решение:\n",
    "$$\\begin{pmatrix}\n",
    "  x_1 \\\\\n",
    "  x_2 \\\\\n",
    "  x_3 \\\\\n",
    "  x_4 \\\\\n",
    "  x_5\n",
    " \\end{pmatrix} =\n",
    " \\begin{pmatrix}\n",
    "  2 \\\\\n",
    "  0 \\\\\n",
    "  0 \\\\\n",
    "  0 \\\\\n",
    "  0\n",
    " \\end{pmatrix} + \n",
    "\\begin{pmatrix}\n",
    "  -1 & 3 & -1 \\\\\n",
    "  0 & 2 & 0 \\\\\n",
    "  1 & 0 & 0 \\\\\n",
    "  0 & 1 & 0 \\\\\n",
    "  0 & 0 & 1 \n",
    "  \\end{pmatrix}\n",
    " \\begin{pmatrix} \n",
    " C_1 \\\\ C_2 \\\\ C_3 \\end{pmatrix} = \n",
    " \\begin{pmatrix}\n",
    "  2 \\\\\n",
    "  0 \\\\\n",
    "  0 \\\\\n",
    "  0 \\\\\n",
    "  0\n",
    " \\end{pmatrix} + \n",
    " \\begin{pmatrix}\n",
    "  -1 \\\\\n",
    "  0 \\\\\n",
    "  1 \\\\\n",
    "  0 \\\\\n",
    "  0\n",
    "  \\end{pmatrix} C_1 + \n",
    " \\begin{pmatrix}\n",
    "  3 \\\\\n",
    "  2 \\\\\n",
    "  0 \\\\\n",
    "  1 \\\\\n",
    "  0\n",
    " \\end{pmatrix} C_2 + \n",
    " \\begin{pmatrix}\n",
    "  -1 \\\\\n",
    "  0 \\\\\n",
    "  0 \\\\\n",
    "  0 \\\\\n",
    "  1\n",
    " \\end{pmatrix} C_3 $$"
   ]
  }
 ],
 "metadata": {
  "kernelspec": {
   "display_name": "Python 3",
   "language": "python",
   "name": "python3"
  },
  "language_info": {
   "codemirror_mode": {
    "name": "ipython",
    "version": 3
   },
   "file_extension": ".py",
   "mimetype": "text/x-python",
   "name": "python",
   "nbconvert_exporter": "python",
   "pygments_lexer": "ipython3",
   "version": "3.8.8"
  }
 },
 "nbformat": 4,
 "nbformat_minor": 5
}
